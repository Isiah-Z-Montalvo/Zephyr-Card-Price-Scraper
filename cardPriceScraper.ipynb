{
 "cells": [
  {
   "cell_type": "markdown",
   "id": "64b66341-5f5c-40d5-9260-31381b3b8fce",
   "metadata": {},
   "source": [
    "## Troll and Toad Card Price Scraper"
   ]
  },
  {
   "cell_type": "code",
   "execution_count": 1,
   "id": "6adce139-f070-4aa7-bbfa-427531948f1a",
   "metadata": {},
   "outputs": [],
   "source": [
    "import pandas as pd\n",
    "import numpy as np\n",
    "import requests\n",
    "from bs4 import BeautifulSoup as bs\n",
    "import pygsheets\n",
    "import time"
   ]
  },
  {
   "cell_type": "code",
   "execution_count": 2,
   "id": "6f096991-e4a2-4543-bb59-5231afff3acc",
   "metadata": {},
   "outputs": [],
   "source": [
    "client = pygsheets.authorize(service_account_file=\"credentials.json\")\n",
    "spreadsheet = client.open(\"Pokemon Card Value Sheet\")\n",
    "sheet = spreadsheet.worksheet(\"title\", \"Sheet1\")"
   ]
  },
  {
   "cell_type": "code",
   "execution_count": 4,
   "id": "bc99fde1-08bd-40e0-8f18-d614b9e1c1a0",
   "metadata": {},
   "outputs": [],
   "source": [
    "cards = sheet.get_as_df(empty_value = \"null\", end = (None, 4))\n",
    "exempt_cards = [\"pokemon-oversized-cards\", \"prize-pack-series\", \"psa-graded-pokemon-cards\"]\n",
    "search_urls = []\n",
    "price_urls = []\n",
    "card_prices = []"
   ]
  },
  {
   "cell_type": "code",
   "execution_count": 4,
   "id": "8ab1bd87-0ca0-4cf4-9d7a-56e369ca7f1c",
   "metadata": {},
   "outputs": [],
   "source": [
    "for index in cards.index:\n",
    "    card_query = \"\"\n",
    "    card_words = cards.Card[index].split()\n",
    "    for word in card_words:\n",
    "        card_query += \"{}+\".format(word)\n",
    "    if \"/\" in cards.Set_Number[index]:\n",
    "        card_number, set_number = cards.Set_Number[index].split(\"/\")\n",
    "        card_query += \"{}%2F{}\".format(card_number, set_number)\n",
    "    else:\n",
    "        card_query += \"{}\".format(cards.Set_Number[index])\n",
    "    search_url = \"https://www.trollandtoad.com/category.php?selected-cat=0&search-words={}\".format(card_query)\n",
    "    search_urls.append(search_url)"
   ]
  },
  {
   "cell_type": "code",
   "execution_count": 5,
   "id": "ccb72fab-8d3b-4066-ab6d-3398fb2c333a",
   "metadata": {},
   "outputs": [
    {
     "name": "stdout",
     "output_type": "stream",
     "text": [
      "228\n"
     ]
    }
   ],
   "source": [
    "for url in search_urls:\n",
    "    time.sleep(5)\n",
    "    search_page = requests.get(url)\n",
    "    search_parsed_page = bs(search_page.text, \"html.parser\")\n",
    "    \n",
    "    if search_parsed_page.find(class_ = \"font-italic font-smaller\").text == \"0 Products Found\":\n",
    "        url_words = url.split(\"+\")\n",
    "        url_set_num = url_words[-1]\n",
    "        if \"%2F\" in url_set_num:\n",
    "            card_num, set_num = url_set_num.split(\"%2F\")\n",
    "            new_card_num = \"\"\n",
    "            new_set_num = \"\"\n",
    "            is_activated = False\n",
    "            for char in card_num:\n",
    "                if char.isalpha():\n",
    "                    new_card_num += char\n",
    "                elif char == \"0\":\n",
    "                    if is_activated:\n",
    "                        new_card_num += char\n",
    "                    else:\n",
    "                        pass\n",
    "                else:\n",
    "                    is_activated = True\n",
    "                    new_card_num += char\n",
    "            is_activated = False\n",
    "            for char in set_num:\n",
    "                if char.isalpha():\n",
    "                    new_set_num += char\n",
    "                elif char == \"0\":\n",
    "                    if is_activated:\n",
    "                        new_set_num += char\n",
    "                    else:\n",
    "                        pass\n",
    "                else:\n",
    "                    is_activated = True\n",
    "                    new_set_num += char\n",
    "            new_id = new_card_num + \"%2F\" + new_set_num\n",
    "            new_url = url.replace(url[url.rindex(\"+\") + 1:], new_id)\n",
    "        else:\n",
    "            card_set_num = \"\"\n",
    "            is_activated = False\n",
    "            for char in url_set_num:\n",
    "                if char.isalpha():\n",
    "                    card_set_num += char\n",
    "                elif char == \"0\":\n",
    "                    if is_activated:\n",
    "                        card_set_num += char\n",
    "                    else:\n",
    "                        pass\n",
    "                else:\n",
    "                    is_activated = True\n",
    "                    card_set_num += char\n",
    "            new_url = url.replace(url[url.rindex(\"+\") + 1:], card_set_num)\n",
    "\n",
    "        search_page = requests.get(new_url)\n",
    "        search_parsed_page = bs(search_page.text, \"html.parser\")\n",
    "\n",
    "    card_options = search_parsed_page.find_all(\"a\",  class_ = \"card-text\")\n",
    "    for option in card_options:\n",
    "        is_exempt = False\n",
    "        option_string = option[\"href\"].replace(\"/\", \" \")\n",
    "        for exempt in exempt_cards:\n",
    "            if exempt in option_string:\n",
    "                is_exempt = True\n",
    "        if is_exempt:\n",
    "            continue\n",
    "        else:\n",
    "            price_url = \"https://www.trollandtoad.com{}\".format(option[\"href\"])\n",
    "            price_urls.append(price_url)\n",
    "            break"
   ]
  },
  {
   "cell_type": "code",
   "execution_count": 6,
   "id": "34369644-d1b3-4527-a376-b39a5693979c",
   "metadata": {},
   "outputs": [],
   "source": [
    "for url in price_urls:\n",
    "    time.sleep(5)\n",
    "    price_page = requests.get(url)\n",
    "    price_parsed_page = bs(price_page.text, \"html.parser\")\n",
    "    card_prices.append(price_parsed_page.find(id = \"sale-price\").text)"
   ]
  },
  {
   "cell_type": "code",
   "execution_count": 7,
   "id": "1d7fe8ec-6834-4942-9ebd-8e828ae9a788",
   "metadata": {},
   "outputs": [],
   "source": [
    "card_prices = list(map(float, card_prices))\n",
    "depreciation = [x * 0.3 for x in card_prices]\n",
    "card_prices = np.subtract(card_prices, depreciation)\n",
    "card_prices = np.around(card_prices, 2)\n",
    "card_prices = list(map(str, card_prices))\n",
    "for i in range(len(card_prices)):\n",
    "    card_prices[i] = \"$\" + card_prices[i]"
   ]
  },
  {
   "cell_type": "code",
   "execution_count": null,
   "id": "63e55575-7342-4127-9b6f-749b2f932c10",
   "metadata": {},
   "outputs": [],
   "source": [
    "cards.Price = card_prices\n",
    "sheet.set_dataframe(cards, (1, 1))"
   ]
  }
 ],
 "metadata": {
  "kernelspec": {
   "display_name": "Python 3 (ipykernel)",
   "language": "python",
   "name": "python3"
  },
  "language_info": {
   "codemirror_mode": {
    "name": "ipython",
    "version": 3
   },
   "file_extension": ".py",
   "mimetype": "text/x-python",
   "name": "python",
   "nbconvert_exporter": "python",
   "pygments_lexer": "ipython3",
   "version": "3.9.16"
  }
 },
 "nbformat": 4,
 "nbformat_minor": 5
}
