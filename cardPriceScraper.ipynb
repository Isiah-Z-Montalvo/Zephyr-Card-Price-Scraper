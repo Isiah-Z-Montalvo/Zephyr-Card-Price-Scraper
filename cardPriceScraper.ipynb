{
 "cells": [
  {
   "cell_type": "markdown",
   "id": "64b66341-5f5c-40d5-9260-31381b3b8fce",
   "metadata": {},
   "source": [
    "## Troll and Toad Card Price Scraper"
   ]
  },
  {
   "cell_type": "code",
   "execution_count": 1,
   "id": "6adce139-f070-4aa7-bbfa-427531948f1a",
   "metadata": {},
   "outputs": [],
   "source": [
    "import pandas as pd\n",
    "import requests\n",
    "from bs4 import BeautifulSoup as bs"
   ]
  },
  {
   "cell_type": "code",
   "execution_count": 2,
   "id": "27abe837-8893-4a0a-8078-918ec21a9b6f",
   "metadata": {},
   "outputs": [
    {
     "data": {
      "text/html": [
       "<div>\n",
       "<style scoped>\n",
       "    .dataframe tbody tr th:only-of-type {\n",
       "        vertical-align: middle;\n",
       "    }\n",
       "\n",
       "    .dataframe tbody tr th {\n",
       "        vertical-align: top;\n",
       "    }\n",
       "\n",
       "    .dataframe thead th {\n",
       "        text-align: right;\n",
       "    }\n",
       "</style>\n",
       "<table border=\"1\" class=\"dataframe\">\n",
       "  <thead>\n",
       "    <tr style=\"text-align: right;\">\n",
       "      <th></th>\n",
       "      <th>Card_Name</th>\n",
       "      <th>Card_Number</th>\n",
       "    </tr>\n",
       "  </thead>\n",
       "  <tbody>\n",
       "    <tr>\n",
       "      <th>0</th>\n",
       "      <td>Aegislash</td>\n",
       "      <td>177/185</td>\n",
       "    </tr>\n",
       "    <tr>\n",
       "      <th>1</th>\n",
       "      <td>Pikachu and Zekrom GX</td>\n",
       "      <td>SM248</td>\n",
       "    </tr>\n",
       "    <tr>\n",
       "      <th>2</th>\n",
       "      <td>Darkrai VSTAR</td>\n",
       "      <td>GG50/GG70</td>\n",
       "    </tr>\n",
       "  </tbody>\n",
       "</table>\n",
       "</div>"
      ],
      "text/plain": [
       "               Card_Name Card_Number\n",
       "0              Aegislash     177/185\n",
       "1  Pikachu and Zekrom GX       SM248\n",
       "2          Darkrai VSTAR   GG50/GG70"
      ]
     },
     "execution_count": 2,
     "metadata": {},
     "output_type": "execute_result"
    }
   ],
   "source": [
    "test_data = {\"Card_Name\": [\"Aegislash\", \"Pikachu and Zekrom GX\", \"Darkrai VSTAR\"],\n",
    "             \"Card_Number\": [\"177/185\", \"SM248\", \"GG50/GG70\"]}\n",
    "test_df = pd.DataFrame(test_data)\n",
    "test_df"
   ]
  },
  {
   "cell_type": "code",
   "execution_count": 3,
   "id": "76bb6e4f-cd2e-4a88-adb6-06784fa5f16b",
   "metadata": {},
   "outputs": [],
   "source": [
    "card_urls = []"
   ]
  },
  {
   "cell_type": "code",
   "execution_count": 4,
   "id": "8ab1bd87-0ca0-4cf4-9d7a-56e369ca7f1c",
   "metadata": {},
   "outputs": [],
   "source": [
    "for ind in test_df.index:\n",
    "    card_query = \"\"\n",
    "    card_words = test_df.Card_Name[ind].split()\n",
    "    for word in card_words:\n",
    "        card_query += \"{}+\".format(word)\n",
    "    if \"/\" in test_df.Card_Number[ind]:\n",
    "        card_number, set_number = test_df.Card_Number[ind].split(\"/\")\n",
    "        card_query += \"{}%2F{}\".format(card_number, set_number)\n",
    "    else:\n",
    "        card_query += \"{}\".format(test_df.Card_Number[ind])\n",
    "    url = \"https://www.trollandtoad.com/category.php?selected-cat=0&search-words={}\".format(card_query)\n",
    "    card_urls.append(url)"
   ]
  },
  {
   "cell_type": "code",
   "execution_count": 5,
   "id": "ccb72fab-8d3b-4066-ab6d-3398fb2c333a",
   "metadata": {},
   "outputs": [
    {
     "name": "stdout",
     "output_type": "stream",
     "text": [
      "Successfully Loaded Page\n"
     ]
    }
   ],
   "source": [
    "card_page = requests.get(card_urls[0])\n",
    "if card_page.status_code == 200:\n",
    "    print(\"Successfully Loaded Page\")\n",
    "else:\n",
    "    print(\"Unsuccessful\")"
   ]
  },
  {
   "cell_type": "code",
   "execution_count": 6,
   "id": "34369644-d1b3-4527-a376-b39a5693979c",
   "metadata": {},
   "outputs": [],
   "source": [
    "parsed_page = bs(card_page.text, \"html.parser\")"
   ]
  },
  {
   "cell_type": "code",
   "execution_count": 7,
   "id": "a9ad33b4-98c8-4fa1-9978-3afd0d596cfe",
   "metadata": {},
   "outputs": [
    {
     "name": "stdout",
     "output_type": "stream",
     "text": [
      "[<a class=\"card-text\" href=\"/pokemon/sword-shield-vivid-voltage-singles/aegislash-v-177-185-full-art-ultra-rare/1680812\"><strong>Aegislash</strong> V - <strong>177/185</strong> - Full Art Ultra Rare</a>]\n"
     ]
    }
   ],
   "source": [
    "print(parsed_page.find_all(\"a\",  class_ = \"card-text\"))"
   ]
  },
  {
   "cell_type": "code",
   "execution_count": null,
   "id": "2e8545e8-8ebc-4197-93d0-6367382ffb1b",
   "metadata": {},
   "outputs": [],
   "source": []
  }
 ],
 "metadata": {
  "kernelspec": {
   "display_name": "Python 3 (ipykernel)",
   "language": "python",
   "name": "python3"
  },
  "language_info": {
   "codemirror_mode": {
    "name": "ipython",
    "version": 3
   },
   "file_extension": ".py",
   "mimetype": "text/x-python",
   "name": "python",
   "nbconvert_exporter": "python",
   "pygments_lexer": "ipython3",
   "version": "3.9.16"
  }
 },
 "nbformat": 4,
 "nbformat_minor": 5
}
